{
 "cells": [
  {
   "cell_type": "markdown",
   "metadata": {
    "deletable": false,
    "editable": false,
    "nbgrader": {
     "checksum": "90243fa208b695b5a01a4e3dfaa2583e",
     "grade": false,
     "grade_id": "cell-d4f30a87a32c582b",
     "locked": true,
     "schema_version": 1,
     "solution": false
    }
   },
   "source": [
    "Recall the data from last time\n",
    "\n",
    "    data=[5,4,6,1,9,0,3,9,2,7,10,8,4,7,1,2,7,6,5,2,8,2,0,1,1,1,2,10,6,2]\n",
    "\n",
    "Write three columns to a comma-separated file:\n",
    "\n",
    "    data_value, data_value**2, (data_value+data_value**2)/3."
   ]
  },
  {
   "cell_type": "code",
   "execution_count": 11,
   "metadata": {
    "deletable": false,
    "nbgrader": {
     "checksum": "4e0bcde8ab5767f93e1672b4d31c372e",
     "grade": false,
     "grade_id": "cell-143b614df20a8f3b",
     "locked": false,
     "schema_version": 1,
     "solution": true
    }
   },
   "outputs": [],
   "source": [
    "def write_columns(data,fname):\n",
    "    '''\n",
    "    Given data as a list, write three columns to fname.\n",
    "    \n",
    "    :param: data \n",
    "    :type : list\n",
    "    :param: fname\n",
    "    :type: str\n",
    "    '''\n",
    "# YOUR CODE HERE\n",
    "\n",
    "    assert isinstance(data,list) # Verify if the input data is a list\n",
    "    assert isinstance(fname,str) # Verify if the input fname is a string\n",
    "\n",
    "    file = open(fname,'w') # Open file in writing mode\n",
    "    n = 0\n",
    "    # Use for-loop to write data into the given file\n",
    "    for element in data:\n",
    "        assert isinstance(element, int) | isinstance(element, float) # Verify if the input data list elements are integers/floats\n",
    "        n = n + 1 # the order number of the element we pick-up in the for-loop\n",
    "        third_col =((element + element**2)/3)\n",
    "        if(type(element) == int):\n",
    "            if(n == len(data)):# If element is the last one in the list, just write three result without line break command\n",
    "                file.write(str(element) + ', ' + str(element**2) + ', ' + '%.3f'%third_col)\n",
    "            else:\n",
    "                file.write(str(element) + ', ' + str(element**2) + ', ' + '%.3f'%third_col + '\\n')\n",
    "            \n",
    "        elif(type(element) == float):\n",
    "            if(n == len(data)):\n",
    "                file.write('%.3f'%element + ', ' + '%.3f'%element**2 + ', ' + '%.3f'%third_col)\n",
    "            else:\n",
    "                file.write('%.3f'%element + ', ' + '%.3f'%element**2 + ', ' + '%.3f'%third_col + '\\n')\n",
    "            \n",
    "    file.close() # Close file\n"
   ]
  },
  {
   "cell_type": "code",
   "execution_count": 12,
   "metadata": {
    "deletable": false,
    "editable": false,
    "nbgrader": {
     "checksum": "ff627603f7211f527181d44922aa9b03",
     "grade": true,
     "grade_id": "cell-17cf039687237cdd",
     "locked": true,
     "points": 10,
     "schema_version": 1,
     "solution": false
    }
   },
   "outputs": [],
   "source": [
    "### BEGIN  TESTS\n",
    "import numpy as np\n",
    "from nose.tools import assert_almost_equal\n",
    "data=[5,4,6,1,9,0,3,9,2,7,10,8,4,7,1,2,7,6,5,2,8,2,0,1,1,1,2,10,6,2]\n",
    "fname = 'test_data.csv'\n",
    "write_columns(data,fname)\n",
    "assert_almost_equal(np.loadtxt(fname,delimiter=',').sum(),1328,2)\n",
    "    \n",
    "### END  TESTS"
   ]
  },
  {
   "cell_type": "code",
   "execution_count": null,
   "metadata": {},
   "outputs": [],
   "source": []
  }
 ],
 "metadata": {
  "kernelspec": {
   "display_name": "Python 3",
   "language": "python",
   "name": "python3"
  },
  "language_info": {
   "codemirror_mode": {
    "name": "ipython",
    "version": 3
   },
   "file_extension": ".py",
   "mimetype": "text/x-python",
   "name": "python",
   "nbconvert_exporter": "python",
   "pygments_lexer": "ipython3",
   "version": "3.6.7"
  }
 },
 "nbformat": 4,
 "nbformat_minor": 2
}
