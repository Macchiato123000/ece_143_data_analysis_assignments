{
 "cells": [
  {
   "cell_type": "markdown",
   "metadata": {
    "deletable": false,
    "editable": false,
    "nbgrader": {
     "checksum": "44b2ef491ffa834b1acb4c2cfdc4251b",
     "grade": false,
     "grade_id": "cell-08a6a4edb9d24de3",
     "locked": true,
     "schema_version": 1,
     "solution": false
    }
   },
   "source": [
    "You have a file that needs to be divided into `n` chunks. While it would be straightforward to split the file into equal-bytes sizes and then write those chunks to file, you cannot write any incomplete lines to the files. This means that all of the `n` files that you create must have **no truncated lines**. If a split of a certain byte-size would result in a truncated line, then you can back off and only write the previous complete line. You can save the rest of it for the next chunk.\n",
    "\n",
    "You can download [Metamorphosis, by Franz Kafka](https://storage.googleapis.com/class-notes-181217.appspot.com/pg5200.txt) as the sample text. The file is of size 139055 bytes. Splitting into three pieces gives the following files and their respective sizes:\n",
    "\n",
    "   |size | filename         |\n",
    "   |-----| -----------------| \n",
    "|46310|pg5200.txt_00.txt|\n",
    "|46334|pg5200.txt_01.txt|\n",
    "|46411|pg5200.txt_02.txt|\n",
    "\n",
    "\n",
    "The last line of the `pg5200.txt_00.txt` is the following:\n",
    "\n",
    "    her, she hurried out again and even turned the key in the lock so\n",
    "    \n",
    "The last line of the `pg5200.txt_01.txt` is the following:\n",
    "\n",
    "    there.  He, fortunately, would usually see no more than the object\n",
    "    \n",
    "As a final hint, splitting the same file into eight parts gives the following:\n",
    "\n",
    "\n",
    "|size | filename       |\n",
    "|-----|----------------|\n",
    "|17321|pg5200.txt_00.txt|\n",
    "|17376|pg5200.txt_01.txt|\n",
    "|17409|pg5200.txt_02.txt|\n",
    "|17354|pg5200.txt_03.txt|\n",
    "|17445|pg5200.txt_04.txt|\n",
    "|17332|pg5200.txt_05.txt|\n",
    "|17381|pg5200.txt_06.txt|\n",
    "|17437|pg5200.txt_07.txt|\n",
    "\n",
    "\n",
    "You should think about making your file sizes as uniform as possible. Otherwise, for a very long file, the last file may be inordinately large, as compared to the others. Your algorithm should pass through the file exactly once. If possible, you also want to minimize how much you move the file pointer around in the file.   You should ensure that your code produces the file sizes that are indicated for each of the cases shown above.\n",
    "\n",
    "* Hint: Use ``wb`` as the file write mode."
   ]
  },
  {
   "cell_type": "code",
   "execution_count": 1,
   "metadata": {
    "deletable": false,
    "nbgrader": {
     "checksum": "53363512423b4fddcd79e02838a0f956",
     "grade": false,
     "grade_id": "cell-e91a2afd8181d503",
     "locked": false,
     "schema_version": 1,
     "solution": true
    }
   },
   "outputs": [
    {
     "name": "stdout",
     "output_type": "stream",
     "text": [
      "17321\n",
      "17376\n",
      "17409\n",
      "17354\n",
      "17445\n",
      "17332\n",
      "17381\n",
      "17437\n"
     ]
    }
   ],
   "source": [
    "import os\n",
    "\n",
    "def split_by_n(fname,n=3):\n",
    "    '''\n",
    "    To make the given file divided into n part\n",
    "    :fname : String\n",
    "    :n : int\n",
    "    '''\n",
    "    assert isinstance(n,int)\n",
    "    assert 0 < n < 10\n",
    "    assert isinstance(fname,str)\n",
    "    \n",
    "    size = os.path.getsize(fname)\n",
    "    partSize = size // n\n",
    "    file = open(fname,'r')\n",
    "    \n",
    "    for i in range(n):\n",
    "        if(i == 0):\n",
    "            portion = file.read(partSize)\n",
    "            rePortion = portion[:portion.rfind('\\n') + 1]\n",
    "        elif(i == n - 1):\n",
    "            temp = portion[1 + (portion.rfind('\\n')):]\n",
    "            portion = file.read()\n",
    "            rePortion = portion + temp\n",
    "        else:\n",
    "            temp = portion[1 + (portion.rfind('\\n')):]\n",
    "            portion = file.read(partSize)\n",
    "            temp = temp + portion\n",
    "            rePortion = temp[:temp.rfind('\\n') + 1]\n",
    "        part = open(fname + '_%02d.txt'%(i),'w')\n",
    "        part.write(rePortion)\n",
    "        part.close()\n",
    "        print(os.path.getsize(fname + '_%02d.txt'%(i)))\n",
    "split_by_n('pg5200.txt', 8)"
   ]
  },
  {
   "cell_type": "code",
   "execution_count": null,
   "metadata": {
    "deletable": false,
    "editable": false,
    "nbgrader": {
     "checksum": "c5ac3c26e027cc9c3f2b6cbaffd95135",
     "grade": true,
     "grade_id": "cell-777fec16a5490c1e",
     "locked": true,
     "points": 30,
     "schema_version": 1,
     "solution": false
    }
   },
   "outputs": [],
   "source": []
  }
 ],
 "metadata": {
  "kernelspec": {
   "display_name": "Python 3",
   "language": "python",
   "name": "python3"
  },
  "language_info": {
   "codemirror_mode": {
    "name": "ipython",
    "version": 3
   },
   "file_extension": ".py",
   "mimetype": "text/x-python",
   "name": "python",
   "nbconvert_exporter": "python",
   "pygments_lexer": "ipython3",
   "version": "3.6.7"
  }
 },
 "nbformat": 4,
 "nbformat_minor": 2
}
