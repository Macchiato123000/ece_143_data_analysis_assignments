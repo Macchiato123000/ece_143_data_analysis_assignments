{
 "cells": [
  {
   "cell_type": "markdown",
   "metadata": {
    "deletable": false,
    "editable": false,
    "nbgrader": {
     "checksum": "ccfe12f7510b34e5911a3f9c54bf18a6",
     "grade": false,
     "grade_id": "cell-35a6fab17f9fdf9e",
     "locked": true,
     "schema_version": 1,
     "solution": false
    }
   },
   "source": [
    "Using the same [corpus of 10,000 common English words](https://storage.googleapis.com/class-notes-181217.appspot.com/google-10000-english-no-swears.txt) as before,\n",
    "create a new file that consists of each\n",
    "consecutive non-overlapping sequence of five lines merged into one line. Here\n",
    "are the first 10 lines:\n",
    "\n",
    "    the of and to a\n",
    "    in for is on that\n",
    "    by this with i you\n",
    "    it not or be are\n",
    "    from at as your all\n",
    "    have new more an was\n",
    "    we will home can us\n",
    "    about if page my has\n",
    "    search free but our one\n",
    "    other do no information time\n",
    "\n",
    "If the last group has less than five at the end, just write out the last group."
   ]
  },
  {
   "cell_type": "code",
   "execution_count": 1,
   "metadata": {
    "deletable": false,
    "nbgrader": {
     "checksum": "b0bc75f089de3bec258187f6f470ad49",
     "grade": false,
     "grade_id": "cell-776cc31a59bb9565",
     "locked": false,
     "schema_version": 1,
     "solution": true
    }
   },
   "outputs": [],
   "source": [
    "fname = 'output_by_5.txt'\n",
    "def write_chunks_of_five(words,fname):\n",
    "    '''\n",
    "    :param: words\n",
    "    :type: list\n",
    "    :param: fname\n",
    "    :type: str\n",
    "    '''\n",
    "    assert isinstance(words, list) # Verify if the input data is a list\n",
    "    assert (len(words) != 0)       # Verify if the input data has words\n",
    "    assert isinstance(fname, str)  # Verify if the input fname is string\n",
    "# YOUR CODE HERE\n",
    "    count = 0\n",
    "    file = open(fname,'w')         # Open file in writing mode\n",
    "    # Using foor loop to make five words into one line\n",
    "    for i in words:\n",
    "        file.write(str(i) + ' ')\n",
    "        count = count + 1    \n",
    "        if(count == 5):\n",
    "            file.write('\\n')\n",
    "            count = 0\n",
    "    file.close()                   # Close file"
   ]
  },
  {
   "cell_type": "code",
   "execution_count": null,
   "metadata": {
    "deletable": false,
    "editable": false,
    "nbgrader": {
     "checksum": "baab221ece7d68a114f534c9c4a44217",
     "grade": true,
     "grade_id": "cell-eb4fd5c831778280",
     "locked": true,
     "points": 30,
     "schema_version": 1,
     "solution": false
    }
   },
   "outputs": [],
   "source": []
  }
 ],
 "metadata": {
  "kernelspec": {
   "display_name": "Python 3",
   "language": "python",
   "name": "python3"
  },
  "language_info": {
   "codemirror_mode": {
    "name": "ipython",
    "version": 3
   },
   "file_extension": ".py",
   "mimetype": "text/x-python",
   "name": "python",
   "nbconvert_exporter": "python",
   "pygments_lexer": "ipython3",
   "version": "3.6.7"
  }
 },
 "nbformat": 4,
 "nbformat_minor": 2
}
