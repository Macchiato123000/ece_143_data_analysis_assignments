{
 "cells": [
  {
   "cell_type": "markdown",
   "metadata": {
    "deletable": false,
    "editable": false,
    "nbgrader": {
     "checksum": "bd40ab92accec1e9816a1b44edbb1d2b",
     "grade": false,
     "grade_id": "cell-c5ee0f5604695693",
     "locked": true,
     "schema_version": 1,
     "solution": false
    }
   },
   "source": [
    "- Write a function that returns the number of calendar days in a given year and month. Hint: see the `calendar` module in the standard library. \n",
    "- Find the number of leap-years between 1900 and 2018.\n",
    "- Find the string name (e.g., Monday, Tuesday) of the day of the week on a given month,day, and year.\n",
    "\n",
    "Note that Sunday starts the week for this exercise (not the default!). Do not forget to import calendar on your own."
   ]
  },
  {
   "cell_type": "code",
   "execution_count": 4,
   "metadata": {
    "deletable": false,
    "nbgrader": {
     "checksum": "75472d772cfb4cd077979f1eb445740a",
     "grade": false,
     "grade_id": "cell-bc74a2e32e5528ef",
     "locked": false,
     "schema_version": 1,
     "solution": true
    }
   },
   "outputs": [],
   "source": [
    "import calendar\n",
    "def number_of_days(year,month):\n",
    "    '''\n",
    "    :year:int\n",
    "    :month:int\n",
    "    :return the number of days in given month and year.\n",
    "    '''\n",
    "    assert isinstance(year,int) and isinstance(month,int) \n",
    "    assert (1<=month<=12) and (year>0)\n",
    "    \n",
    "    calendar.setfirstweekday(firstweekday=6) \n",
    "    month=calendar.monthrange(year,month)\n",
    "    days=month[1]\n",
    "    return days"
   ]
  },
  {
   "cell_type": "code",
   "execution_count": 9,
   "metadata": {},
   "outputs": [
    {
     "data": {
      "text/plain": [
       "29"
      ]
     },
     "execution_count": 9,
     "metadata": {},
     "output_type": "execute_result"
    }
   ],
   "source": [
    "number_of_days(2020,2)"
   ]
  },
  {
   "cell_type": "code",
   "execution_count": null,
   "metadata": {
    "deletable": false,
    "editable": false,
    "nbgrader": {
     "checksum": "b2eed2b8061ad549bc5b5663b7d87075",
     "grade": true,
     "grade_id": "cell-2710fc7511996439",
     "locked": true,
     "points": 5,
     "schema_version": 1,
     "solution": false
    }
   },
   "outputs": [],
   "source": []
  },
  {
   "cell_type": "code",
   "execution_count": null,
   "metadata": {},
   "outputs": [],
   "source": []
  },
  {
   "cell_type": "code",
   "execution_count": 6,
   "metadata": {
    "deletable": false,
    "nbgrader": {
     "checksum": "9bfd65dd11389deab9c556823c63ce15",
     "grade": false,
     "grade_id": "cell-e611be5551225dcf",
     "locked": false,
     "schema_version": 1,
     "solution": true
    }
   },
   "outputs": [],
   "source": [
    "def number_of_leap_years():\n",
    "    '''\n",
    "    :return the number of the leap year between 1900 and 2018\n",
    "    '''\n",
    "    return calendar.leapdays(1900,2018) "
   ]
  },
  {
   "cell_type": "code",
   "execution_count": 10,
   "metadata": {},
   "outputs": [
    {
     "data": {
      "text/plain": [
       "29"
      ]
     },
     "execution_count": 10,
     "metadata": {},
     "output_type": "execute_result"
    }
   ],
   "source": [
    "number_of_leap_years()"
   ]
  },
  {
   "cell_type": "code",
   "execution_count": null,
   "metadata": {
    "deletable": false,
    "editable": false,
    "nbgrader": {
     "checksum": "e807bbb57c99387bed94627183a02931",
     "grade": true,
     "grade_id": "cell-14bdffc3773a2e8c",
     "locked": true,
     "points": 5,
     "schema_version": 1,
     "solution": false
    }
   },
   "outputs": [],
   "source": []
  },
  {
   "cell_type": "code",
   "execution_count": null,
   "metadata": {
    "deletable": false,
    "editable": false,
    "nbgrader": {
     "checksum": "da0b79f72b6a143690860f87b1ce0f98",
     "grade": true,
     "grade_id": "cell-b65c04dfe545f1f3",
     "locked": true,
     "points": 5,
     "schema_version": 1,
     "solution": false
    }
   },
   "outputs": [],
   "source": []
  },
  {
   "cell_type": "code",
   "execution_count": 11,
   "metadata": {
    "deletable": false,
    "nbgrader": {
     "checksum": "17f45a6fb33cf34a50951e34d17cc79c",
     "grade": false,
     "grade_id": "cell-537b0dbec1aca866",
     "locked": false,
     "schema_version": 1,
     "solution": true
    }
   },
   "outputs": [],
   "source": [
    "def get_day_of_week(year,month,day):\n",
    "    '''\n",
    "    :year:int\n",
    "    :month:int\n",
    "    :day:int\n",
    "    :return the weekday name of the given day, month and year\n",
    "    '''\n",
    "    assert isinstance(year,int) and isinstance(month,int)  and isinstance(day,int)\n",
    "    assert (1<=month<=12) and (year>0) and 1<=day<=31\n",
    "    if(month==2):\n",
    "        if (calendar.isleap(year)):\n",
    "            assert day<=29\n",
    "        else:\n",
    "            assert day<=28\n",
    "    if(month==4 or month==6 or month==9 or month==11):\n",
    "        assert day<=30\n",
    "\n",
    "    weekday={0:'Monday',\n",
    "             1:'Tuesday',\n",
    "             2:'Wednesday',\n",
    "             3:'Thursday',\n",
    "             4:'Friday',\n",
    "             5:'Saturday',\n",
    "             6:'Sunday',}\n",
    "    day=calendar.weekday(year,month,day) \n",
    "    return weekday.get(day)"
   ]
  },
  {
   "cell_type": "code",
   "execution_count": 12,
   "metadata": {},
   "outputs": [
    {
     "data": {
      "text/plain": [
       "'Thursday'"
      ]
     },
     "execution_count": 12,
     "metadata": {},
     "output_type": "execute_result"
    }
   ],
   "source": [
    "get_day_of_week(2019,1,17)"
   ]
  },
  {
   "cell_type": "code",
   "execution_count": null,
   "metadata": {
    "deletable": false,
    "editable": false,
    "nbgrader": {
     "checksum": "80599a3ae9ed24cc585f2a5f513d6d85",
     "grade": true,
     "grade_id": "cell-aa94d5a0d71588fd",
     "locked": true,
     "points": 10,
     "schema_version": 1,
     "solution": false
    }
   },
   "outputs": [],
   "source": []
  }
 ],
 "metadata": {
  "kernelspec": {
   "display_name": "Python 3",
   "language": "python",
   "name": "python3"
  },
  "language_info": {
   "codemirror_mode": {
    "name": "ipython",
    "version": 3
   },
   "file_extension": ".py",
   "mimetype": "text/x-python",
   "name": "python",
   "nbconvert_exporter": "python",
   "pygments_lexer": "ipython3",
   "version": "3.6.7"
  }
 },
 "nbformat": 4,
 "nbformat_minor": 2
}
