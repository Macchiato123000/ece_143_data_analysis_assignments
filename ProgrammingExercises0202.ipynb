{
 "cells": [
  {
   "cell_type": "markdown",
   "metadata": {
    "deletable": false,
    "editable": false,
    "nbgrader": {
     "checksum": "6610650b9e6064cd5c21364e504e1f9b",
     "grade": false,
     "grade_id": "cell-e2d648ec5a0ebe65",
     "locked": true,
     "schema_version": 1,
     "solution": false
    }
   },
   "source": [
    "Download this [corpus of 10,000 common English words](http://localhost:8888/?token=a6840a33f9885242e17dacd3d5ed7114465feb61d54ced90) and do the following:\n",
    "\n",
    "\n",
    "- What is the longest word?\n",
    "- What is the longest word that starts with s\n",
    "- What is the most common starting letter?\n",
    "- What is the most common ending letter?"
   ]
  },
  {
   "cell_type": "code",
   "execution_count": 1,
   "metadata": {
    "deletable": false,
    "nbgrader": {
     "checksum": "052aae16c9e675edffcce2c91984468f",
     "grade": false,
     "grade_id": "cell-e9f6429b2bc8dfbc",
     "locked": false,
     "schema_version": 1,
     "solution": true
    }
   },
   "outputs": [
    {
     "name": "stderr",
     "output_type": "stream",
     "text": [
      "<ipython-input-1-1c2690334855>:41: SyntaxWarning: assertion is always true, perhaps remove parentheses?\n",
      "  assert(all(words), str)        # Verify if the input word in data list is a string\n",
      "<ipython-input-1-1c2690334855>:71: SyntaxWarning: assertion is always true, perhaps remove parentheses?\n",
      "  assert(all(words), str)        # Verify if the input word in data list is a string\n",
      "<ipython-input-1-1c2690334855>:95: SyntaxWarning: assertion is always true, perhaps remove parentheses?\n",
      "  assert(all(words), str)        # Verify if the input word in data list is a string\n"
     ]
    }
   ],
   "source": [
    "# you can use this bit of code to download the words from the corpus\n",
    "from urllib.request import urlopen\n",
    "\n",
    "u = 'https://storage.googleapis.com/class-notes-181217.appspot.com/google-10000-english-no-swears.txt'\n",
    "response = urlopen(u)\n",
    "words = [i.strip().decode('utf8') for i in response.readlines()]\n",
    "\n",
    "# write a function to compute the longest word\n",
    "def get_longest_word(words):\n",
    "# YOUR CODE HERE\n",
    "    '''\n",
    "    Given a list, which contains all of the words from 'corpus of 10,000 common English words'.\n",
    "    To find the longest word.\n",
    "    \n",
    "    :param: words\n",
    "    :type : list\n",
    "    '''\n",
    "    assert isinstance(words, list) # Verify if the input data is a list\n",
    "    assert (len(words)!= 0)        # Verify if the input data has words\n",
    "    \n",
    "    # Generate a dictionary ,which contains words and words'length\n",
    "    dictionary = (dict(zip(words,[len(i) for i in words])))\n",
    "    #Find the longest word\n",
    "    longest = max([(i,j) for i,j in dictionary.items()],key = lambda i:i[1])\n",
    "    res = longest[0]\n",
    "    return res\n",
    "    \n",
    "def get_longest_words_startswith(words, starts):\n",
    "# YOUR CODE HERE\n",
    "    '''\n",
    "    Given a list, which contains all of the words from 'corpus of 10,000 common English words'.\n",
    "    To find the longest word that start with a particular character.\n",
    "    \n",
    "    :param: words\n",
    "    :type : list\n",
    "    :param: starts\n",
    "    :type : str\n",
    "    '''\n",
    "    assert isinstance(words, list) # Verify if the input data is a list\n",
    "    assert (len(words) != 0)       # Verify if the input data has words\n",
    "    assert(all(words), str)        # Verify if the input word in data list is a string\n",
    "    assert isinstance(starts, str) # Verify if the input starts is string\n",
    "    assert starts.isalpha()        # Verify if the input starts is alpha\n",
    "    assert starts.islower()        # Verify if the input starts is lower string\n",
    "    assert (len(starts) == 1)      # Verify if the input starts is sigle word\n",
    "    \n",
    "    word = []\n",
    "    res = ''\n",
    "    # Use for loop to pick up all the words which the start is given word\n",
    "    for i in words:\n",
    "        if(i[0] == starts):\n",
    "            word.append(i)\n",
    "    \n",
    "    sorted_words = sorted(word)# Sort the generated list\n",
    "    # Use for loop to find the longest word starting in given word \n",
    "    for i in sorted_words:\n",
    "        if (len(i) >= len(res)):\n",
    "            res = i\n",
    "    return res\n",
    "\n",
    "def get_most_common_start(words):\n",
    "# YOUR CODE HERE\n",
    "    '''\n",
    "    Given a list, which contains all of the words from 'corpus of 10,000 common English words'.\n",
    "    To find the most common starting letter.\n",
    "    \n",
    "    :param: words\n",
    "    :type : list\n",
    "    '''\n",
    "    assert isinstance(words, list) # Verify if the input data is a list\n",
    "    assert(all(words), str)        # Verify if the input word in data list is a string \n",
    "    assert (len(words) != 0)       # Verify if the input data has words\n",
    "    \n",
    "    # Pick up every words' starting letter\n",
    "    initial = [i[0] for i in words]\n",
    "    initial_count = {}\n",
    "    # Use for loop to build up a dictionary containing the beginning letter and the number of occurrences\n",
    "    for i in initial:\n",
    "        initial_count[i] = initial.count(i)\n",
    "    # Find the most common starting letter\n",
    "    common = max([(i,j) for i,j in initial_count.items()],key = lambda i:i[1])\n",
    "    res = common[0]\n",
    "    return res\n",
    "\n",
    "def get_most_common_end(words):\n",
    "# YOUR CODE HERE\n",
    "    '''\n",
    "    Given a list, which contains all of the words from 'corpus of 10,000 common English words'.\n",
    "    To find the most common ending letter.\n",
    "    \n",
    "    :param: words\n",
    "    :type : list\n",
    "    '''\n",
    "    assert isinstance(words, list) # Verify if the input data is a list\n",
    "    assert(all(words), str)        # Verify if the input word in data list is a string\n",
    "    assert (len(words) != 0)       # Verify if the input data has words\n",
    "    \n",
    "    # Pick up every words' ending letter\n",
    "    end = [i[-1] for i in words]\n",
    "    end_count={}\n",
    "    # Use for loop to build up a dictionary containing the ending letter and the number of occurrences\n",
    "    for i in end:\n",
    "        end_count[i] = end.count(i)\n",
    "    # Find the most common ending letter\n",
    "    common = max([(i,j) for i,j in end_count.items()],key = lambda i:i[1])\n",
    "    res = common[0]\n",
    "    return res"
   ]
  },
  {
   "cell_type": "code",
   "execution_count": null,
   "metadata": {
    "deletable": false,
    "editable": false,
    "nbgrader": {
     "checksum": "f50f373a4c0a5f1324a1b5f31689dff2",
     "grade": true,
     "grade_id": "cell-9b9db364a733cab0",
     "locked": true,
     "points": 10,
     "schema_version": 1,
     "solution": false
    }
   },
   "outputs": [],
   "source": []
  },
  {
   "cell_type": "code",
   "execution_count": 2,
   "metadata": {
    "deletable": false,
    "editable": false,
    "nbgrader": {
     "checksum": "ead01eee412047e3890ddf3d6a7c91dd",
     "grade": true,
     "grade_id": "cell-7559f8c989e26885",
     "locked": true,
     "points": 10,
     "schema_version": 1,
     "solution": false
    }
   },
   "outputs": [],
   "source": [
    "### BEGIN  TESTS\n",
    "assert get_longest_words_startswith(words,'s') in  ['sustainability','simultaneously', \n",
    "'specifications', \n",
    "'sustainability', \n",
    "'superintendent' ]\n",
    "### END  TESTS"
   ]
  },
  {
   "cell_type": "code",
   "execution_count": 3,
   "metadata": {
    "deletable": false,
    "editable": false,
    "nbgrader": {
     "checksum": "c53b574063985ae43501e85a691e5b93",
     "grade": true,
     "grade_id": "cell-3cf6876fc57af686",
     "locked": true,
     "points": 10,
     "schema_version": 1,
     "solution": false
    }
   },
   "outputs": [],
   "source": [
    "### BEGIN  TESTS\n",
    "assert get_most_common_start(words)=='c'\n",
    "### END  TESTS"
   ]
  },
  {
   "cell_type": "code",
   "execution_count": 4,
   "metadata": {
    "deletable": false,
    "editable": false,
    "nbgrader": {
     "checksum": "928ed1833420d20d44af0d22302be103",
     "grade": true,
     "grade_id": "cell-f1359f41f9db52bd",
     "locked": true,
     "points": 10,
     "schema_version": 1,
     "solution": false
    }
   },
   "outputs": [],
   "source": [
    "### BEGIN  TESTS\n",
    "assert get_most_common_end(words)=='s'\n",
    "### END  TESTS"
   ]
  },
  {
   "cell_type": "code",
   "execution_count": null,
   "metadata": {},
   "outputs": [],
   "source": []
  }
 ],
 "metadata": {
  "kernelspec": {
   "display_name": "Python 3",
   "language": "python",
   "name": "python3"
  },
  "language_info": {
   "codemirror_mode": {
    "name": "ipython",
    "version": 3
   },
   "file_extension": ".py",
   "mimetype": "text/x-python",
   "name": "python",
   "nbconvert_exporter": "python",
   "pygments_lexer": "ipython3",
   "version": "3.6.7"
  }
 },
 "nbformat": 4,
 "nbformat_minor": 2
}
