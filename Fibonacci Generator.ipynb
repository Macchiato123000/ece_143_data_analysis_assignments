{
 "cells": [
  {
   "cell_type": "markdown",
   "metadata": {
    "deletable": false,
    "editable": false,
    "nbgrader": {
     "checksum": "71551595cff909ccd33e29207bc546ab",
     "grade": false,
     "grade_id": "cell-82a325153131d13f",
     "locked": true,
     "schema_version": 1,
     "solution": false
    }
   },
   "source": [
    "## Problem2:Generator for Infinite Fibonacci Sequences\n",
    "\n",
    "The Fibonacci numbers are defined by the following recursion:\n",
    "    $$ F_{n} = F_{n-1}+F_{n-2} $$\n",
    "with initial values . Using generators, write a function to compute the first `n` Fibonacci numbers. For example, for `n=10`, the output should be him`[1,1,2,3,5,8,13,21,34,55]`."
   ]
  },
  {
   "cell_type": "code",
   "execution_count": 1,
   "metadata": {
    "deletable": false,
    "nbgrader": {
     "checksum": "704a7f5e25993232b2f2a3a705e5d786",
     "grade": false,
     "grade_id": "cell-739ab490b92b6529",
     "locked": false,
     "schema_version": 1,
     "solution": true
    }
   },
   "outputs": [],
   "source": [
    "def fibonacci(n):\n",
    "    '''\n",
    "    Using generators, write a function to compute the first n Fibonacci numbers. \n",
    "    :n :int\n",
    "    '''\n",
    "    assert isinstance(n,int)\n",
    "    assert n>2\n",
    "    \n",
    "    fn = [1, 1]\n",
    "    for i in range(2, n):\n",
    "        fn.append(fn[i-1] + fn[i-2])\n",
    "    return fn"
   ]
  },
  {
   "cell_type": "code",
   "execution_count": 6,
   "metadata": {},
   "outputs": [
    {
     "data": {
      "text/plain": [
       "[1, 1, 2, 3, 5, 8, 13, 21, 34, 55]"
      ]
     },
     "execution_count": 6,
     "metadata": {},
     "output_type": "execute_result"
    }
   ],
   "source": [
    "fibonacci(10)"
   ]
  },
  {
   "cell_type": "code",
   "execution_count": null,
   "metadata": {
    "deletable": false,
    "editable": false,
    "nbgrader": {
     "checksum": "d3c6e7b71b3754ec6817a03c71f7469e",
     "grade": true,
     "grade_id": "cell-15b7af9c06674945",
     "locked": true,
     "points": 20,
     "schema_version": 1,
     "solution": false
    }
   },
   "outputs": [],
   "source": []
  },
  {
   "cell_type": "code",
   "execution_count": null,
   "metadata": {
    "deletable": false,
    "editable": false,
    "nbgrader": {
     "checksum": "ddecf248c2fdd8b67d64a84cd573b460",
     "grade": true,
     "grade_id": "cell-f242eff6d809ac1c",
     "locked": true,
     "points": 10,
     "schema_version": 1,
     "solution": false
    }
   },
   "outputs": [],
   "source": []
  }
 ],
 "metadata": {
  "kernelspec": {
   "display_name": "Python 3",
   "language": "python",
   "name": "python3"
  },
  "language_info": {
   "codemirror_mode": {
    "name": "ipython",
    "version": 3
   },
   "file_extension": ".py",
   "mimetype": "text/x-python",
   "name": "python",
   "nbconvert_exporter": "python",
   "pygments_lexer": "ipython3",
   "version": "3.6.7"
  }
 },
 "nbformat": 4,
 "nbformat_minor": 2
}
