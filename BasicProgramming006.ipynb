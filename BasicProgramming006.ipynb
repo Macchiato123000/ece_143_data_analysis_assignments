{
 "cells": [
  {
   "cell_type": "markdown",
   "metadata": {
    "deletable": false,
    "editable": false,
    "nbgrader": {
     "checksum": "785116279a2f055c443b11cd44f0aa50",
     "grade": false,
     "grade_id": "cell-457f7ae50bd00ea7",
     "locked": true,
     "schema_version": 1,
     "solution": false
    }
   },
   "source": [
    "## Problem: Sliding window\n",
    "\n",
    "Implement a sliding window for an arbitrary input list. The function should take\n",
    "the window width and the window increment as inputs and should produce a\n",
    "sequence of overlapping lists from the input list. For example, given\n",
    "`x=range(15)`, the following is the output given a window width of `5` and\n",
    "window increment of `2`.\n",
    "\n",
    "    [[0, 1, 2, 3, 4],\n",
    "     [2, 3, 4, 5, 6],\n",
    "     [4, 5, 6, 7, 8],\n",
    "     [6, 7, 8, 9, 10],\n",
    "     [8, 9, 10, 11, 12],\n",
    "     [10, 11, 12, 13, 14]]\n",
    "\n",
    "In the event that the input parameters do not yield a complete set of even\n",
    "sublists, just truncate the ragged tail. For example,\n",
    "\n",
    "    >>> slide_window(range(18),5,2)\n",
    "    [[0, 1, 2, 3, 4],\n",
    "     [2, 3, 4, 5, 6],\n",
    "     [4, 5, 6, 7, 8],\n",
    "     [6, 7, 8, 9, 10],\n",
    "     [8, 9, 10, 11, 12],\n",
    "     [10, 11, 12, 13, 14],\n",
    "     [12, 13, 14, 15, 16]]"
   ]
  },
  {
   "cell_type": "code",
   "execution_count": 1,
   "metadata": {
    "deletable": false,
    "nbgrader": {
     "checksum": "e45248e252e02489ca35af45376afea8",
     "grade": false,
     "grade_id": "cell-feb98530bbfed6a6",
     "locked": false,
     "schema_version": 1,
     "solution": true
    }
   },
   "outputs": [],
   "source": [
    "def slide_window(x,width,increment):\n",
    "# YOUR CODE HERE\n",
    "    '''\n",
    "    Implement a sliding window for an arbitrary input list. \n",
    "    The function should take the window width and the window increment as inputs \n",
    "    and should produce a sequence of overlapping lists from the input list. \n",
    "    \n",
    "    :x :range or list\n",
    "    :width :int>0\n",
    "    :increment :int>0\n",
    "    '''\n",
    "    from collections import Iterable\n",
    "    assert isinstance(x, Iterable)\n",
    "    assert isinstance(width, int)\n",
    "    assert isinstance(increment, int)\n",
    "    assert width > 0\n",
    "    assert increment > 0\n",
    "    #assert len(x)>=width\n",
    "    assert width > increment\n",
    "    if(isinstance(x, set)):\n",
    "        x = list(x)\n",
    "    n = 0\n",
    "    result = []\n",
    "    groupNumber = int(((len(x) - width)) / increment) + 1\n",
    "    while(n < groupNumber):\n",
    "        i = 0\n",
    "        part = []\n",
    "        while(i < width):\n",
    "            index = i + increment * n\n",
    "            element = x[index]\n",
    "            part.append(element)\n",
    "            i = i + 1\n",
    "        result.append(part)\n",
    "        n = n + 1\n",
    "    return result"
   ]
  },
  {
   "cell_type": "code",
   "execution_count": null,
   "metadata": {
    "deletable": false,
    "editable": false,
    "nbgrader": {
     "checksum": "b8fa42032ab326343bfc907d3344bd8c",
     "grade": true,
     "grade_id": "cell-ca9bd3475cce33f2",
     "locked": true,
     "points": 20,
     "schema_version": 1,
     "solution": false
    }
   },
   "outputs": [],
   "source": []
  },
  {
   "cell_type": "code",
   "execution_count": 2,
   "metadata": {
    "deletable": false,
    "editable": false,
    "nbgrader": {
     "checksum": "02ddf89c379d073e7554eb707e66320e",
     "grade": true,
     "grade_id": "cell-21ef5921c0f7a2d6",
     "locked": true,
     "points": 2,
     "schema_version": 1,
     "solution": false
    }
   },
   "outputs": [],
   "source": [
    "assert slide_window.__doc__ is not None"
   ]
  },
  {
   "cell_type": "code",
   "execution_count": null,
   "metadata": {},
   "outputs": [],
   "source": []
  }
 ],
 "metadata": {
  "kernelspec": {
   "display_name": "Python 3",
   "language": "python",
   "name": "python3"
  },
  "language_info": {
   "codemirror_mode": {
    "name": "ipython",
    "version": 3
   },
   "file_extension": ".py",
   "mimetype": "text/x-python",
   "name": "python",
   "nbconvert_exporter": "python",
   "pygments_lexer": "ipython3",
   "version": "3.6.7"
  }
 },
 "nbformat": 4,
 "nbformat_minor": 2
}
