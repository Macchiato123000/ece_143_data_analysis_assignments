{
 "cells": [
  {
   "cell_type": "markdown",
   "metadata": {
    "deletable": false,
    "editable": false,
    "nbgrader": {
     "checksum": "f70b41919759f804451e10e04b52259d",
     "grade": false,
     "grade_id": "cell-5b1580be70ef50dc",
     "locked": true,
     "schema_version": 1,
     "solution": false
    }
   },
   "source": [
    "## Problem: Random samples for a finite  population of bitstrings\n",
    "\n",
    "Given a number of bits, write the `get_sample` function to return a list `n` of random samples from a finite probability mass function defined by a dictionary with keys defined by a specified number of bits. For example, given `3` bits, we have the following dictionary that defines the probability of each of the keys,\n",
    "\n",
    "    ['000', '001', '010', '011', '100', '101', '110', '111']\n",
    "\n",
    "The values of the dictionary correspond of the probability of drawing any one of these. For example, if all of these were equally likely, then here is the corresponding dictionary `p`,\n",
    "\n",
    "    p={'000': 0.125,\n",
    "     '001': 0.125,\n",
    "     '010': 0.125,\n",
    "     '011': 0.125,\n",
    "     '100': 0.125,\n",
    "     '101': 0.125,\n",
    "     '110': 0.125,\n",
    "     '111': 0.125}\n",
    " \n",
    " \n",
    " Your `get_sample` function should return something like the following,\n",
    " \n",
    "     >>> get_sample(nbits=3,prob=p,n=4)\n",
    "     ['101', '000', '001', '100']\n",
    " \n",
    "**Hint**: Validate your inputs thoroughly. "
   ]
  },
  {
   "cell_type": "code",
   "execution_count": 52,
   "metadata": {
    "deletable": false,
    "nbgrader": {
     "checksum": "3afd3bb1f8fc72455712b8dde8c72144",
     "grade": false,
     "grade_id": "cell-e40100904168153b",
     "locked": false,
     "schema_version": 1,
     "solution": true
    }
   },
   "outputs": [],
   "source": [
    "import random\n",
    "def get_sample(nbits,prob,n):\n",
    "    '''\n",
    "    Given data as a dictionary, extract the certain number of bitstrings based on the weight in the dictionary.\n",
    "    \n",
    "    :param: nbits\n",
    "    :type: int\n",
    "    :param: prob\n",
    "    :type: dict\n",
    "    :param: n\n",
    "    :type: int\n",
    "    \n",
    "    :assertion:\n",
    "    1. verify the input type pf nbits(int)> 0, prob(dict), n(int) > 0\n",
    "    2. verify if total value is 1\n",
    "    3. verify that the length of the dict keys is same as that of nbits\n",
    "    4. verify that the type of the dict values is int or float\n",
    "    5. verify that the type of the dict keys is string\n",
    "    6. verify that the type of the dict values is int or float\n",
    "    7. verify that the format of the dict keys is bitstring\n",
    "    8. verify that the value of the dict is not larger than 1, and is always positive\n",
    "    \n",
    "    '''\n",
    "    \n",
    "    keys = []\n",
    "    values = []\n",
    "    bit = str(nbits)\n",
    "    bitFormat = '{0:0' + bit + 'b}'\n",
    "    totalValue = sum(prob.values())\n",
    "    length = 2**nbits\n",
    "    \n",
    "    assert isinstance(nbits, int) and isinstance(n, int) and isinstance(prob, dict)\n",
    "    assert nbits > 0 and n > 0\n",
    "    assert length == len(prob)\n",
    "    assert totalValue == 1\n",
    "    for value in prob.values():\n",
    "        assert isinstance(value, int) or isinstance(value, float)\n",
    "        assert (value <= 1) and (value >=0)\n",
    "    for key in prob.keys():\n",
    "        assert isinstance(key, str)\n",
    "        assert len(key) == nbits\n",
    "        for bit in key:\n",
    "            assert ((bit == '1') or (bit == '0'))\n",
    "        keys.append(key)\n",
    "        values.append(prob[key])\n",
    "    out = random.choices(keys, weights = values, k = n)\n",
    "    return out"
   ]
  },
  {
   "cell_type": "code",
   "execution_count": 53,
   "metadata": {},
   "outputs": [
    {
     "data": {
      "text/plain": [
       "['101', '110', '011', '010']"
      ]
     },
     "execution_count": 53,
     "metadata": {},
     "output_type": "execute_result"
    }
   ],
   "source": [
    "p={'000': 0.125,\n",
    " '001': 0.125,\n",
    " '010': 0.125,\n",
    " '011': 0.125,\n",
    " '100': 0.125,\n",
    " '101': 0.125,\n",
    " '110': 0.125,\n",
    " '111': 0.125}\n",
    "get_sample(nbits=3,prob=p,n=4)"
   ]
  },
  {
   "cell_type": "code",
   "execution_count": null,
   "metadata": {
    "deletable": false,
    "editable": false,
    "nbgrader": {
     "checksum": "e2d4cd62fd7e18cbcb5db5fadc9db06d",
     "grade": true,
     "grade_id": "cell-d5d814177b4b1163",
     "locked": true,
     "points": 20,
     "schema_version": 1,
     "solution": false
    }
   },
   "outputs": [],
   "source": []
  },
  {
   "cell_type": "code",
   "execution_count": null,
   "metadata": {
    "deletable": false,
    "editable": false,
    "nbgrader": {
     "checksum": "7712bc6a4d552e855ac499f75543602f",
     "grade": true,
     "grade_id": "cell-584b253a8aa4c454",
     "locked": true,
     "points": 10,
     "schema_version": 1,
     "solution": false
    }
   },
   "outputs": [],
   "source": []
  },
  {
   "cell_type": "markdown",
   "metadata": {
    "deletable": false,
    "editable": false,
    "nbgrader": {
     "checksum": "3a0c7b7b064793cf7ce757b8a9a08a30",
     "grade": false,
     "grade_id": "cell-b2114029deea7d7a",
     "locked": true,
     "schema_version": 1,
     "solution": false
    }
   },
   "source": [
    "## Map bitstrings \n",
    "\n",
    "Write a function `map_bitstring` that takes a list of bitstrings (i.e., `0101`) and maps each bitstring to `0` if the number of `0`s in the bitstring strictly exceeds the number of `1`s. Otherwise, map that bitstring to `1`. The output of your function is a dictionary of the so-described key-value pairs.\n",
    "\n",
    "Here is an example:\n",
    "\n",
    "    >>> x= ['100', '100', '110', '010', '111', '000', '110', '010', '011', '000']\n",
    "    >>> map_bitstring(x)\n",
    "    {'100': 0, '110': 1, '010': 0, '111': 1, '000': 0, '011': 1}\n"
   ]
  },
  {
   "cell_type": "code",
   "execution_count": 54,
   "metadata": {
    "deletable": false,
    "nbgrader": {
     "checksum": "10d3836707d829a6b808630bd1779750",
     "grade": false,
     "grade_id": "cell-6d0f8ee073968e08",
     "locked": false,
     "schema_version": 1,
     "solution": true
    }
   },
   "outputs": [],
   "source": [
    "prob={'000': 0.125,\n",
    " '001': 0.125,\n",
    " '010': 0.125,\n",
    " '011': 0.125,\n",
    " '100': 0.125,\n",
    " '101': 0.125,\n",
    " '110': 0.125,\n",
    " '111': 0.125}\n",
    "nbits=3\n",
    "import math\n",
    "def map_bitstring(instrings):\n",
    "    '''\n",
    "    Given data as a list, the output is a dictionary of the described key-value pairs\n",
    "    \n",
    "    :param: instrings\n",
    "    :type: list\n",
    "    \n",
    "    :assertion:\n",
    "    1. verify the input type of instrings(list)\n",
    "    2. verify the element of the list is string\n",
    "    3. verify that the format of the dict keys is bitstring\n",
    "    4. verify that the length of each element is same\n",
    "    '''\n",
    "    \n",
    "    bitMap = {}\n",
    "    keys = []\n",
    "    values = []\n",
    "    length = len(instrings[0])\n",
    "    assert isinstance(instrings, list)\n",
    "    for string in instrings:\n",
    "        assert isinstance(string, str);\n",
    "        assert (len(string) == length)\n",
    "        for bit in string:\n",
    "            assert (bit == \"1\") or (bit == '0')\n",
    "        bag = 0\n",
    "        range(len(string))\n",
    "        for i in range(len(string)):\n",
    "            if (string[i] == '1'):\n",
    "                bag = bag + 1\n",
    "            else:\n",
    "                continue\n",
    "        for value in prob.values():\n",
    "            assert isinstance(value, int) or isinstance(value, float)\n",
    "            assert (value <= 1) and (value >=0)\n",
    "        for key in prob.keys():\n",
    "            if (bag >= math.ceil(len(key) / 2)):\n",
    "                bitMap[string] = 1\n",
    "            else:\n",
    "                bitMap[string] = 0\n",
    "    return bitMap"
   ]
  },
  {
   "cell_type": "code",
   "execution_count": 55,
   "metadata": {},
   "outputs": [
    {
     "data": {
      "text/plain": [
       "{'000': 0, '010': 0, '011': 1, '100': 0, '110': 1, '111': 1}"
      ]
     },
     "execution_count": 55,
     "metadata": {},
     "output_type": "execute_result"
    }
   ],
   "source": [
    "x= ['100', '100', '110', '010', '111', '000', '110', '010', '011', '000']\n",
    "map_bitstring(x)"
   ]
  },
  {
   "cell_type": "code",
   "execution_count": null,
   "metadata": {
    "deletable": false,
    "editable": false,
    "nbgrader": {
     "checksum": "46e7779edf932fcadb407a0ba14ef48e",
     "grade": true,
     "grade_id": "cell-e4f010c3a49c7f7c",
     "locked": true,
     "points": 20,
     "schema_version": 1,
     "solution": false
    }
   },
   "outputs": [],
   "source": []
  },
  {
   "cell_type": "code",
   "execution_count": null,
   "metadata": {
    "deletable": false,
    "editable": false,
    "nbgrader": {
     "checksum": "a3e4a79f34163ccad208f3d4e003345d",
     "grade": true,
     "grade_id": "cell-daa584d0ff7c9fec",
     "locked": true,
     "points": 10,
     "schema_version": 1,
     "solution": false
    }
   },
   "outputs": [],
   "source": []
  },
  {
   "cell_type": "markdown",
   "metadata": {
    "deletable": false,
    "editable": false,
    "nbgrader": {
     "checksum": "9d227c566406c0d19309881964a1aa1b",
     "grade": false,
     "grade_id": "cell-c5502ee14e0cc4e0",
     "locked": true,
     "schema_version": 1,
     "solution": false
    }
   },
   "source": [
    "## Gather by values \n",
    "\n",
    "Now that you have `get_sample` working, generate `n` samples and tally the number of times an existing key is repeated. Generate a new dictionary with bitstrings as keys and with values as lists that contain the corresponding mapped values from `map_bitstring`. Here is an example for  `n=20`,\n",
    "\n",
    "    >>> x=get_sample(nbits=2,prob={'00':1/4,'01':1/4,'10':1/4,'11':1/4},n=20)\n",
    "    >>> print(x)\n",
    "    ['10', '11', '01', '00', '10', '00', '00', '11', '10', '00', '00', '01', '01', '11', '10', '00', '11', '10', '11', '11']\n",
    "\n",
    "Write a function `gather_values` that can produce the following output from `x`:\n",
    "\n",
    "    {'10': [1, 1, 1, 1, 1],\n",
    "     '11': [1, 1, 1, 1, 1, 1],\n",
    "     '01': [1, 1, 1],\n",
    "     '00': [0, 0, 0, 0, 0, 0]}"
   ]
  },
  {
   "cell_type": "code",
   "execution_count": 56,
   "metadata": {
    "deletable": false,
    "nbgrader": {
     "checksum": "899ded29119505e033fea57f66186910",
     "grade": false,
     "grade_id": "cell-77b4c3b9d90a3767",
     "locked": false,
     "schema_version": 1,
     "solution": true
    }
   },
   "outputs": [],
   "source": [
    "def gather_values(seq):\n",
    "    '''\n",
    "    Given data as a list, generate a new dictionary with bitstrings as keys and with values as lists that contain the corresponding values from map_bitstring\n",
    "    \n",
    "    :param: seq\n",
    "    :type: list\n",
    "    \n",
    "    :assertion:\n",
    "    1. verify the input type of instrings(list)\n",
    "    2. verify the element of the list is a string\n",
    "    3. verify that the format of the dict keys is bitstring\n",
    "    4. verify that the length of each element is same\n",
    "    '''\n",
    "    \n",
    "    length = len(seq[0])\n",
    "    assert isinstance(seq, list)\n",
    "    for i in seq:\n",
    "        assert isinstance(i,str)\n",
    "        assert (len(i) == length)\n",
    "        for bit in i:\n",
    "            assert (bit == '1')or(bit == '0')\n",
    "    seq2 = map_bitstring(seq)\n",
    "    for i in seq2.keys():\n",
    "        times = seq.count(i)\n",
    "        value = seq2[i]\n",
    "        seq2[i] = [value]*times\n",
    "    return seq2"
   ]
  },
  {
   "cell_type": "code",
   "execution_count": 57,
   "metadata": {},
   "outputs": [],
   "source": [
    "x=get_sample(nbits=2,prob={'00':1/4,'01':1/4,'10':1/4,'11':1/4},n=20)"
   ]
  },
  {
   "cell_type": "code",
   "execution_count": 58,
   "metadata": {},
   "outputs": [
    {
     "name": "stdout",
     "output_type": "stream",
     "text": [
      "['01', '01', '10', '11', '01', '01', '00', '01', '01', '10', '01', '00', '01', '10', '00', '10', '00', '11', '11', '11']\n"
     ]
    }
   ],
   "source": [
    "print(x)"
   ]
  },
  {
   "cell_type": "code",
   "execution_count": 59,
   "metadata": {},
   "outputs": [
    {
     "data": {
      "text/plain": [
       "{'00': [0, 0, 0, 0],\n",
       " '01': [0, 0, 0, 0, 0, 0, 0, 0],\n",
       " '10': [0, 0, 0, 0],\n",
       " '11': [1, 1, 1, 1]}"
      ]
     },
     "execution_count": 59,
     "metadata": {},
     "output_type": "execute_result"
    }
   ],
   "source": [
    "gather_values(x)"
   ]
  },
  {
   "cell_type": "code",
   "execution_count": null,
   "metadata": {
    "deletable": false,
    "editable": false,
    "nbgrader": {
     "checksum": "1e3495cc6146a5d6ec134b667efef687",
     "grade": true,
     "grade_id": "cell-686be7c827e4d202",
     "locked": true,
     "points": 20,
     "schema_version": 1,
     "solution": false
    }
   },
   "outputs": [],
   "source": []
  },
  {
   "cell_type": "code",
   "execution_count": null,
   "metadata": {
    "deletable": false,
    "editable": false,
    "nbgrader": {
     "checksum": "22e3be6597cb3b71e899b18ead532ceb",
     "grade": true,
     "grade_id": "cell-43aab92572d7f5a3",
     "locked": true,
     "points": 10,
     "schema_version": 1,
     "solution": false
    }
   },
   "outputs": [],
   "source": []
  },
  {
   "cell_type": "markdown",
   "metadata": {
    "deletable": false,
    "editable": false,
    "nbgrader": {
     "checksum": "296b64e85c2468eff69614b0340b30fb",
     "grade": false,
     "grade_id": "cell-b2602d876901c25d",
     "locked": true,
     "schema_version": 1,
     "solution": false
    }
   },
   "source": [
    "## Threshold sample counts\n",
    "\n",
    "From `gather_values`, we can group the results of the random samples. Now, we want to threshold those values based upon their frequency and value. Given `threshold=2`, we want to keep only those bitstrings with the two highest frequency counts of the `1` value. For example, as before we have,\n",
    "\n",
    "    x=['10', '11', '01', '00', '10', '00', '00', '11', '10', '00', '00', '01', '01', '11', '10', '00', '11', '10', '11', '11']\n",
    "    \n",
    "according to our last result, we had \n",
    "\n",
    "    {'10': [1, 1, 1, 1, 1],\n",
    "     '11': [1, 1, 1, 1, 1, 1],\n",
    "     '01': [1, 1, 1],\n",
    "     '00': [0, 0, 0, 0, 0, 0]}\n",
    "\n",
    "But because the `threshold=2`, we only want to keep the bitstrings with the two most frequent `1`s and set all of the rest to `0`. In this case, this is `10` and `11` with the following output:\n",
    "\n",
    "    {'10': 1,\n",
    "     '11': 1,\n",
    "     '01': 0,\n",
    "     '00': 0}\n",
    "    \n",
    "Note that `01` corresponding value was set to `0` because it did not have the top two most frequent values of `1`. If there is a tie, then use the smallest value the tied bitstrings to pick the winner. Here is a more detailed example:\n",
    "\n",
    "    x= ['1111', '0110', '1001', '0011', '0111', '0100', '0111', '1100', '0011', '0010', '0010', '1010', '1010', '1100', '0110', '0101', '0110', '1111', '1001', '0110', '0010', '1101', '0101', '0010', '0100', '0010', '0000', '0000', '0011', '0110', '0101', '1010', '1011', '1101', '1100', '0111', '1110', '0100', '0110', '1101', '0001', '1110', '0010', '0001', '1010', '1010', '0011', '1000', '0010', '0000', '1010', '1101', '1111', '1000', '1000', '0010', '1010', '0101', '0101', '1101', '0110', '1001', '1100', '1100', '1000', '1010', '0011', '0101', '0101', '0011', '0001', '1010', '0011', '0011', '1101', '1010', '0101', '0011', '1011', '0101', '0000', '1111', '1001', '0101', '1100', '0011', '1111', '1101', '0001', '1111', '1110', '1111', '0001', '0010', '0110', '0100', '0101', '1100', '1110', '1001']\n",
    "\n",
    "With corresponding output from `threshold_values`,\n",
    "\n",
    "    >>> threshold_values(seq,3)\n",
    "    {'0000': 0, '0001': 0, '0010': 0, '0011': 1, '0100': 0, '0101': 1, '0110': 0, '0111': 0, '1000': 0, '1001': 0, '1010': 1, '1011': 0, '1100': 0, '1101': 0, '1110': 0, '1111': 0}\n"
   ]
  },
  {
   "cell_type": "code",
   "execution_count": 60,
   "metadata": {
    "deletable": false,
    "nbgrader": {
     "checksum": "163f867649bbead5d7a0ae72fa8c011f",
     "grade": false,
     "grade_id": "cell-8d7301da17c97f20",
     "locked": false,
     "schema_version": 1,
     "solution": true
    }
   },
   "outputs": [],
   "source": [
    "def threshold_values(seq,threshold=1):\n",
    "    '''\n",
    "    Given data as a list, generate a new dictionary with bitstrings as keys and with values based on given threshold.\n",
    "    \n",
    "    :param: seq\n",
    "    :type : list\n",
    "    \n",
    "    :assertion:\n",
    "    1. Verify the input type of seq(list),threshold(int)>0(threshold<2**len(bitstring))\n",
    "    2. Verify the element of the list is string\n",
    "    3. Verify that the format of the dict keys is bitstring\n",
    "    4. Verify that the length of each element is same\n",
    "    '''\n",
    "    \n",
    "    length = len(seq[0])\n",
    "    assert isinstance(threshold,int) and isinstance(seq,list)\n",
    "    assert (threshold > 0)\n",
    "    for i in seq:\n",
    "        assert isinstance(i,str)\n",
    "        assert (len(i) == length)\n",
    "        for bit in i:\n",
    "            assert (bit == '1')or(bit == '0')        \n",
    "    gatherValues = gather_values(seq)\n",
    "    sortedItem = dict(sorted(gatherValues.items(), key = lambda d:d[0]))\n",
    "    print(sortedItem)\n",
    "    for i in sortedItem.keys():\n",
    "        if(sortedItem[i][0] == 1):\n",
    "            sortedItem[i] = len(sortedItem[i])\n",
    "        else:\n",
    "            sortedItem[i] = 0\n",
    "\n",
    "    sortedValue = dict(sorted(sortedItem.items(), key = lambda d:d[1], reverse = True))\n",
    "    pickedValue = []\n",
    "    assert (threshold <= len(sortedValue))\n",
    "    a = 0\n",
    "    for i in sortedValue.keys():\n",
    "        if(a < threshold):\n",
    "            pickedValue.append(i)\n",
    "            a = a + 1       \n",
    "    for i in sortedItem.keys():\n",
    "        if(i in pickedValue):\n",
    "            if(sortedItem[i] != 0):\n",
    "                sortedItem[i] = 1\n",
    "            else:\n",
    "                continue\n",
    "        else:\n",
    "            sortedItem[i] = 0\n",
    "    return sortedItem"
   ]
  },
  {
   "cell_type": "code",
   "execution_count": 62,
   "metadata": {},
   "outputs": [
    {
     "name": "stdout",
     "output_type": "stream",
     "text": [
      "{'0000': [0, 0, 0, 0], '0001': [0, 0, 0, 0, 0], '0010': [0, 0, 0, 0, 0, 0, 0, 0, 0], '0011': [1, 1, 1, 1, 1, 1, 1, 1, 1, 1], '0100': [0, 0, 0, 0], '0101': [1, 1, 1, 1, 1, 1, 1, 1, 1, 1, 1], '0110': [1, 1, 1, 1, 1, 1, 1, 1], '0111': [1, 1, 1], '1000': [0, 0, 0, 0], '1001': [1, 1, 1, 1, 1], '1010': [1, 1, 1, 1, 1, 1, 1, 1, 1, 1], '1011': [1, 1], '1100': [1, 1, 1, 1, 1, 1, 1], '1101': [1, 1, 1, 1, 1, 1, 1], '1110': [1, 1, 1, 1], '1111': [1, 1, 1, 1, 1, 1, 1]}\n"
     ]
    },
    {
     "data": {
      "text/plain": [
       "{'0000': 0,\n",
       " '0001': 0,\n",
       " '0010': 0,\n",
       " '0011': 1,\n",
       " '0100': 0,\n",
       " '0101': 1,\n",
       " '0110': 0,\n",
       " '0111': 0,\n",
       " '1000': 0,\n",
       " '1001': 0,\n",
       " '1010': 1,\n",
       " '1011': 0,\n",
       " '1100': 0,\n",
       " '1101': 0,\n",
       " '1110': 0,\n",
       " '1111': 0}"
      ]
     },
     "execution_count": 62,
     "metadata": {},
     "output_type": "execute_result"
    }
   ],
   "source": [
    "x= ['1111', '0110', '1001', '0011', '0111', '0100', '0111', '1100', '0011', '0010', '0010', '1010', '1010', '1100', '0110', '0101', '0110', '1111', '1001', '0110', '0010', '1101', '0101', '0010', '0100', '0010', '0000', '0000', '0011', '0110', '0101', '1010', '1011', '1101', '1100', '0111', '1110', '0100', '0110', '1101', '0001', '1110', '0010', '0001', '1010', '1010', '0011', '1000', '0010', '0000', '1010', '1101', '1111', '1000', '1000', '0010', '1010', '0101', '0101', '1101', '0110', '1001', '1100', '1100', '1000', '1010', '0011', '0101', '0101', '0011', '0001', '1010', '0011', '0011', '1101', '1010', '0101', '0011', '1011', '0101', '0000', '1111', '1001', '0101', '1100', '0011', '1111', '1101', '0001', '1111', '1110', '1111', '0001', '0010', '0110', '0100', '0101', '1100', '1110', '1001']\n",
    "\n",
    "threshold_values(x,3)"
   ]
  },
  {
   "cell_type": "code",
   "execution_count": null,
   "metadata": {
    "deletable": false,
    "editable": false,
    "nbgrader": {
     "checksum": "81d5eee3066f8fb4c33c3c67de94ef65",
     "grade": true,
     "grade_id": "cell-089b349800af4b1c",
     "locked": true,
     "points": 20,
     "schema_version": 1,
     "solution": false
    }
   },
   "outputs": [],
   "source": []
  },
  {
   "cell_type": "code",
   "execution_count": null,
   "metadata": {
    "deletable": false,
    "editable": false,
    "nbgrader": {
     "checksum": "6cbd5db4e22f78846ef2482e17e174b2",
     "grade": true,
     "grade_id": "cell-0b0293217e93e677",
     "locked": true,
     "points": 10,
     "schema_version": 1,
     "solution": false
    }
   },
   "outputs": [],
   "source": []
  }
 ],
 "metadata": {
  "kernelspec": {
   "display_name": "Python 3",
   "language": "python",
   "name": "python3"
  },
  "language_info": {
   "codemirror_mode": {
    "name": "ipython",
    "version": 3
   },
   "file_extension": ".py",
   "mimetype": "text/x-python",
   "name": "python",
   "nbconvert_exporter": "python",
   "pygments_lexer": "ipython3",
   "version": "3.6.7"
  }
 },
 "nbformat": 4,
 "nbformat_minor": 2
}
