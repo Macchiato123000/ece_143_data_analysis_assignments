{
 "cells": [
  {
   "cell_type": "markdown",
   "metadata": {
    "deletable": false,
    "editable": false,
    "nbgrader": {
     "checksum": "d1df6a2fd991696bad63262b574ddb82",
     "grade": false,
     "grade_id": "cell-afd07c45d5a48ff0",
     "locked": true,
     "schema_version": 1,
     "solution": false
    }
   },
   "source": [
    "## Problem: Interval arithmetic\n",
    "\n",
    "Using Python object oriented programming, write a class called `Interval` that represents a one-dimensional open interval on the real line. This main purpose of this class is to simplify overlapping continuous intervals. The code below should get you started but there are a lot of missing pieces that you will have to figure out.\n",
    "\n",
    "The API should take a pair of integers as input and respond to the `+` operator such that\n",
    "\n",
    "    >>> a = Interval(1,3)\n",
    "    >>> b = Interval(2,4)\n",
    "    >>> c = Interval(5,10)\n",
    "    >>> a + b \n",
    "    Interval(1,4)\n",
    "    >>> b+c\n",
    "    [ Interval(2,4), Interval(5,10)]\n",
    "    \n",
    "* Note that in the case of non-overlapping intervals, the output should be a list of constituent `Intervals`. Keep in mind that these are **open** intervals. Specifically,\n",
    "\n",
    "      >>> Interval(2,3)+Interval(1,2)\n",
    "      [Interval(2,3), Interval(1,2)]\n",
    "    \n",
    "* Note that these do not produce a single interval because each interval is open (not closed). The interval endpoints can be negative also (e.g., `Interval(-10,-3)` is valid). The output **does not** have to be sorted.\n",
    "\n",
    "* Note that you have to fill in all the functions listed (i.e., remove the `pass` and fill in your code).\n",
    "* It's up to you to decide what each of the dunder functions means for your object. For example, you have to decide what the ordering operations for your object will be in order to accomplish the required output. If you do this right, you will have a very general solution to this problem.\n",
    "\n",
    "**This is where good object-oriented design pays off**. "
   ]
  },
  {
   "cell_type": "code",
   "execution_count": 5,
   "metadata": {
    "deletable": false,
    "nbgrader": {
     "checksum": "d4d032a4c3b74a812ff75ecc78f01846",
     "grade": false,
     "grade_id": "cell-b9f828aa5ccc9631",
     "locked": false,
     "schema_version": 1,
     "solution": true
    }
   },
   "outputs": [],
   "source": [
    "# fill out all the templated methods shown below\n",
    "\n",
    "class Interval(object):\n",
    "    def __init__(self,a,b):\n",
    "        \"\"\"\n",
    "        :a: integer\n",
    "        :b: integer\n",
    "        \"\"\"\n",
    "        assert a<b\n",
    "        assert isinstance(a,int)\n",
    "        assert isinstance(b,int)\n",
    "        self._a = a\n",
    "        self._b = b\n",
    "        \n",
    "    def __repr__(self):\n",
    "        '''\n",
    "        :self:Intervel\n",
    "        :return a string combined with self._a and self._b\n",
    "        '''\n",
    "        assert isinstance(self,Interval)\n",
    "        return 'Interval(%d,%d)' %(self._a,self._b)\n",
    "\n",
    "    def __eq__(self,other):\n",
    "        '''\n",
    "        :self:Interval\n",
    "        :other:Interval\n",
    "        :if self==other return True, or return False\n",
    "        '''\n",
    "        assert isinstance(self,Interval)\n",
    "        assert isinstance(other,Interval)\n",
    "        \n",
    "        if(self._a==other._a and self._b==other._b):\n",
    "            return True\n",
    "        else:\n",
    "            return False\n",
    "\n",
    "    def __lt__(self,other):\n",
    "        '''\n",
    "        :self:Interval\n",
    "        :other:Interval\n",
    "        :if self>other, return True, or return False\n",
    "        '''\n",
    "        assert isinstance(self,Interval)\n",
    "        assert isinstance(other,Interval)\n",
    "        \n",
    "        if(self._a>other._a and self._b<other._b):\n",
    "            return True\n",
    "        elif(self._a==other._a and self._b<other._b):\n",
    "            return True\n",
    "        elif(self._a>other._a and self._b==other._b):\n",
    "            return True\n",
    "        else:\n",
    "            return False\n",
    "\n",
    "    def __gt__(self,other):\n",
    "        '''\n",
    "        :self:Interval\n",
    "        :other:Interval\n",
    "        :if self<other, return True, or return False\n",
    "        '''\n",
    "        assert isinstance(self,Interval)\n",
    "        assert isinstance(other,Interval)\n",
    "        \n",
    "        if(self._a<other._a and self._b>other._b):\n",
    "            return True\n",
    "        elif(self._a==other._a and self._b>other._b):\n",
    "            return True\n",
    "        elif(self._a<other._a and self._b==other._b):\n",
    "            return True\n",
    "        else:\n",
    "            return False\n",
    "\n",
    "    def __ge__(self,other):\n",
    "        '''\n",
    "        :self:Interval\n",
    "        :other:Interval\n",
    "        :if self>=other, return True, or return False\n",
    "        '''\n",
    "        assert isinstance(self,Interval)\n",
    "        assert isinstance(other,Interval)\n",
    "        \n",
    "        if(self._a>other._a and self._b>other._b and self._a<other._b):\n",
    "            return True\n",
    "        else:\n",
    "            return False\n",
    "\n",
    "    def __le__(self,other):\n",
    "        '''\n",
    "        :self:Interval\n",
    "        :other:Interval\n",
    "        :if self<other, return True, or return False\n",
    "        '''\n",
    "        assert isinstance(self,Interval)\n",
    "        assert isinstance(other,Interval)\n",
    "        \n",
    "        if(self._a<other._a and self._b<other._b and self._b>other._a):\n",
    "            return True\n",
    "        else:\n",
    "            return False\n",
    "        \n",
    "\n",
    "    def __add__(self,other):\n",
    "        '''\n",
    "        :self:Interval\n",
    "        :other:Interval\n",
    "        :return the result of self+other\n",
    "        '''\n",
    "        assert isinstance(self,Interval)\n",
    "        assert isinstance(other,Interval)\n",
    "        \n",
    "        if(self==other):\n",
    "            return self\n",
    "        elif(self>=other):\n",
    "            return Interval(other._a,self._b)\n",
    "        elif(self>other):\n",
    "            return self\n",
    "        elif(self<other):\n",
    "            return other\n",
    "        elif(self<=other):\n",
    "            return Interval(self._a,other._b)\n",
    "        else:\n",
    "            return [self,other]"
   ]
  },
  {
   "cell_type": "code",
   "execution_count": 6,
   "metadata": {},
   "outputs": [
    {
     "data": {
      "text/plain": [
       "Interval(1,4)"
      ]
     },
     "execution_count": 6,
     "metadata": {},
     "output_type": "execute_result"
    }
   ],
   "source": [
    "a = Interval(1,3)\n",
    "b = Interval(2,4)\n",
    "c = Interval(5,10)\n",
    "a + b "
   ]
  },
  {
   "cell_type": "code",
   "execution_count": 7,
   "metadata": {},
   "outputs": [
    {
     "data": {
      "text/plain": [
       "[Interval(2,4), Interval(5,10)]"
      ]
     },
     "execution_count": 7,
     "metadata": {},
     "output_type": "execute_result"
    }
   ],
   "source": [
    "b + c"
   ]
  },
  {
   "cell_type": "code",
   "execution_count": 8,
   "metadata": {},
   "outputs": [
    {
     "data": {
      "text/plain": [
       "[Interval(2,3), Interval(1,2)]"
      ]
     },
     "execution_count": 8,
     "metadata": {},
     "output_type": "execute_result"
    }
   ],
   "source": [
    "Interval(2,3)+Interval(1,2)"
   ]
  },
  {
   "cell_type": "code",
   "execution_count": null,
   "metadata": {
    "deletable": false,
    "editable": false,
    "nbgrader": {
     "checksum": "d7c97e18be22a1b3e17e43b8253eb9e8",
     "grade": true,
     "grade_id": "cell-22c7362c723093c9",
     "locked": true,
     "points": 40,
     "schema_version": 1,
     "solution": false
    }
   },
   "outputs": [],
   "source": []
  }
 ],
 "metadata": {
  "kernelspec": {
   "display_name": "Python 3",
   "language": "python",
   "name": "python3"
  },
  "language_info": {
   "codemirror_mode": {
    "name": "ipython",
    "version": 3
   },
   "file_extension": ".py",
   "mimetype": "text/x-python",
   "name": "python",
   "nbconvert_exporter": "python",
   "pygments_lexer": "ipython3",
   "version": "3.6.7"
  }
 },
 "nbformat": 4,
 "nbformat_minor": 2
}
