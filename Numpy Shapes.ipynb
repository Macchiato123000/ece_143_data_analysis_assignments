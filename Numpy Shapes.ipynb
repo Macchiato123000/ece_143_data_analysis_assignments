{
 "cells": [
  {
   "cell_type": "markdown",
   "metadata": {
    "deletable": false,
    "editable": false,
    "nbgrader": {
     "checksum": "7743935fb78db5e6609a70451ead659a",
     "grade": false,
     "grade_id": "cell-390bbdfc6b2e8c40",
     "locked": true,
     "schema_version": 1,
     "solution": false
    }
   },
   "source": [
    "Create the following Numpy array of 32-bit integers\n",
    "\n",
    "    array([[1, 1, 1, 1, 1],\n",
    "           [0, 1, 1, 1, 1],\n",
    "           [0, 0, 1, 1, 1],\n",
    "           [0, 0, 0, 1, 1],\n",
    "           [0, 0, 0, 0, 1]])\n",
    "\n"
   ]
  },
  {
   "cell_type": "code",
   "execution_count": 1,
   "metadata": {
    "deletable": false,
    "nbgrader": {
     "checksum": "8465bac2db8d0e079babd572eefe2d95",
     "grade": false,
     "grade_id": "cell-57fe6a81d3690c93",
     "locked": false,
     "schema_version": 1,
     "solution": true
    }
   },
   "outputs": [],
   "source": [
    "import numpy as np\n",
    "\n",
    "answer = np.triu(np.ones((5,5),np.int32))"
   ]
  },
  {
   "cell_type": "code",
   "execution_count": 2,
   "metadata": {},
   "outputs": [
    {
     "name": "stdout",
     "output_type": "stream",
     "text": [
      "[[1 1 1 1 1]\n",
      " [0 1 1 1 1]\n",
      " [0 0 1 1 1]\n",
      " [0 0 0 1 1]\n",
      " [0 0 0 0 1]]\n"
     ]
    }
   ],
   "source": [
    "print(answer)"
   ]
  },
  {
   "cell_type": "code",
   "execution_count": null,
   "metadata": {
    "deletable": false,
    "editable": false,
    "nbgrader": {
     "checksum": "38914cedfee451dbb4a93f9e3c0f6620",
     "grade": true,
     "grade_id": "cell-fba34169aa206b94",
     "locked": true,
     "points": 10,
     "schema_version": 1,
     "solution": false
    }
   },
   "outputs": [],
   "source": []
  },
  {
   "cell_type": "markdown",
   "metadata": {
    "deletable": false,
    "editable": false,
    "nbgrader": {
     "checksum": "4514c8cb9086f1811df4a05e71c1b8d7",
     "grade": false,
     "grade_id": "cell-8a7c7fb72a7107ef",
     "locked": true,
     "schema_version": 1,
     "solution": false
    }
   },
   "source": [
    "Create the following Numpy array of 16-bit integers\n",
    "\n",
    "    array([[ 1,  2,  3,  4,  5],\n",
    "           [ 0,  6,  7,  8,  9],\n",
    "           [ 0,  0, 10, 11, 12],\n",
    "           [ 0,  0,  0, 13, 14],\n",
    "           [ 0,  0,  0,  0, 15]])"
   ]
  },
  {
   "cell_type": "code",
   "execution_count": 3,
   "metadata": {
    "deletable": false,
    "nbgrader": {
     "checksum": "6b575f5d2b481fc013de76c0b0cc3f03",
     "grade": false,
     "grade_id": "cell-9c94b819d96e02d7",
     "locked": false,
     "schema_version": 1,
     "solution": true
    }
   },
   "outputs": [],
   "source": [
    "import numpy as np\n",
    "\n",
    "answer = np.triu(np.ones((5,5),np.int16))\n",
    "index = np.triu_indices(5)\n",
    "element = []\n",
    "for i in range(15):\n",
    "    element.append(i + 1)\n",
    "answer[index] = element"
   ]
  },
  {
   "cell_type": "code",
   "execution_count": 4,
   "metadata": {},
   "outputs": [
    {
     "name": "stdout",
     "output_type": "stream",
     "text": [
      "[[ 1  2  3  4  5]\n",
      " [ 0  6  7  8  9]\n",
      " [ 0  0 10 11 12]\n",
      " [ 0  0  0 13 14]\n",
      " [ 0  0  0  0 15]]\n"
     ]
    }
   ],
   "source": [
    "print(answer)"
   ]
  },
  {
   "cell_type": "code",
   "execution_count": null,
   "metadata": {
    "deletable": false,
    "editable": false,
    "nbgrader": {
     "checksum": "25af187460b409268f02c5c59620ec02",
     "grade": true,
     "grade_id": "cell-e91dafd43d2532f1",
     "locked": true,
     "points": 10,
     "schema_version": 1,
     "solution": false
    }
   },
   "outputs": [],
   "source": []
  },
  {
   "cell_type": "markdown",
   "metadata": {
    "deletable": false,
    "editable": false,
    "nbgrader": {
     "checksum": "b643095d5c2f18d9ecd7b9613562ed3a",
     "grade": false,
     "grade_id": "cell-f7e9bf7a88eeea65",
     "locked": true,
     "schema_version": 1,
     "solution": false
    }
   },
   "source": [
    "Given the following two-dimensional array, set the diagonal element to the average of the columns in each respective row not counting the diagonal element in each row. Note that the diagonal element itself is not part of the calculation. It is just a placeholder for the result.\n",
    "\n",
    "    [[0,   3, 14, 13, 12],\n",
    "     [13,  0,  8,  5, 11],\n",
    "     [11, 11,  0, 12, 10],\n",
    "     [11, 12,  1,  0, 10],\n",
    "     [13, 12, 11,  4,  0]]\n",
    "     \n",
    "In this case, your answer should look like the following\n",
    "\n",
    "    [[ 10.5 ,   3.  ,  14.  ,  13.  ,  12.  ],\n",
    "     [ 13.  ,   9.25,   8.  ,   5.  ,  11.  ],\n",
    "     [ 11.  ,  11.  ,  11.  ,  12.  ,  10.  ],\n",
    "     [ 11.  ,  12.  ,   1.  ,   8.5 ,  10.  ],\n",
    "     [ 13.  ,  12.  ,  11.  ,   4.  ,  10.  ]]\n",
    "\n",
    "In the general case, the diagonal elements won't necessarily be equal to zero like they are here!"
   ]
  },
  {
   "cell_type": "code",
   "execution_count": 5,
   "metadata": {
    "deletable": false,
    "nbgrader": {
     "checksum": "87f1c44e7f06dfc298d561f01d9c42cb",
     "grade": false,
     "grade_id": "cell-89bcfc13bd10698a",
     "locked": false,
     "schema_version": 1,
     "solution": true
    }
   },
   "outputs": [],
   "source": [
    "import numpy as np\n",
    "\n",
    "def average_into_diagonal(x):\n",
    "    '''\n",
    "    return average of non-diagonal elements with values filled into the diagonal\n",
    "    \n",
    "    :param x: square two-dimensional input array\n",
    "    :type x: numpy array\n",
    "    :returns: numpy array\n",
    "\n",
    "    '''\n",
    "    assert isinstance(x,np.ndarray)\n",
    "    assert x.ndim == 2\n",
    "    assert x.shape[0] == x.shape[1] # square arrays only\n",
    "    \n",
    "    size = x.shape[0]\n",
    "    diag = np.diag_indices(size)\n",
    "    result = x.astype(np.float)\n",
    "    result[diag] = 0\n",
    "    rowAve = []\n",
    "    for i in range(size):\n",
    "        average = sum(result[i]) /(size - 1)\n",
    "        rowAve.append(average)\n",
    "    result[diag] = rowAve\n",
    "    return result\n"
   ]
  },
  {
   "cell_type": "code",
   "execution_count": 6,
   "metadata": {},
   "outputs": [
    {
     "data": {
      "text/plain": [
       "array([[ 10.5 ,   3.  ,  14.  ,  13.  ,  12.  ],\n",
       "       [ 13.  ,   9.25,   8.  ,   5.  ,  11.  ],\n",
       "       [ 11.  ,  11.  ,  11.  ,  12.  ,  10.  ],\n",
       "       [ 11.  ,  12.  ,   1.  ,   8.5 ,  10.  ],\n",
       "       [ 13.  ,  12.  ,  11.  ,   4.  ,  10.  ]])"
      ]
     },
     "execution_count": 6,
     "metadata": {},
     "output_type": "execute_result"
    }
   ],
   "source": [
    "x = np.array([[0,   3, 14, 13, 12],\n",
    " [13,  0,  8,  5, 11],\n",
    " [11, 11,  0, 12, 10],\n",
    " [11, 12,  1,  0, 10],\n",
    " [13, 12, 11,  4,  0]])\n",
    "average_into_diagonal(x)"
   ]
  },
  {
   "cell_type": "code",
   "execution_count": null,
   "metadata": {
    "deletable": false,
    "editable": false,
    "nbgrader": {
     "checksum": "6e9c13b9ba63c23d0665b04a33843169",
     "grade": true,
     "grade_id": "cell-5f1b548badf840ea",
     "locked": true,
     "points": 30,
     "schema_version": 1,
     "solution": false
    }
   },
   "outputs": [],
   "source": []
  },
  {
   "cell_type": "code",
   "execution_count": null,
   "metadata": {},
   "outputs": [],
   "source": []
  }
 ],
 "metadata": {
  "kernelspec": {
   "display_name": "Python 3",
   "language": "python",
   "name": "python3"
  },
  "language_info": {
   "codemirror_mode": {
    "name": "ipython",
    "version": 3
   },
   "file_extension": ".py",
   "mimetype": "text/x-python",
   "name": "python",
   "nbconvert_exporter": "python",
   "pygments_lexer": "ipython3",
   "version": "3.6.7"
  }
 },
 "nbformat": 4,
 "nbformat_minor": 2
}
