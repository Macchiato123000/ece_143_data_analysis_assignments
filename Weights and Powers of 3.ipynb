{
 "cells": [
  {
   "cell_type": "markdown",
   "metadata": {
    "deletable": false,
    "editable": false,
    "nbgrader": {
     "checksum": "601b27746c65b93827f85eae834012c7",
     "grade": false,
     "grade_id": "cell-7eb3c02fa01b32e1",
     "locked": true,
     "schema_version": 1,
     "solution": false
    }
   },
   "source": [
    "## Problem1: Weights and Powers of Three\n",
    "\n",
    "Given a set of weights `{1,3,9,27}`, write a function to construct any number\n",
    "between 1 and 40. In other words, using the set above and the addition and\n",
    "subtraction operations, construct any integer between 1 and 40 without re-using\n",
    "elements. For example, `4 = 1+1+1+1` is not acceptable.\n",
    "\n",
    "For example,\n",
    "\n",
    "    8 = 9 - 1\n",
    "\n",
    "    10 = 1 + 9\n",
    "\n",
    "Hint: see the `itertools` module. Your function should return a 4-element list of the\n",
    "decomposition. For example, your return value given input `10` should be\n",
    "`[1,0,1,0]` because `1*1 + 0*3 + 9*1 + 27*0=10`."
   ]
  },
  {
   "cell_type": "code",
   "execution_count": 1,
   "metadata": {
    "deletable": false,
    "nbgrader": {
     "checksum": "7f58c0909d0e3138129b72de538b6025",
     "grade": false,
     "grade_id": "cell-9da6512126a9385b",
     "locked": false,
     "schema_version": 1,
     "solution": true
    }
   },
   "outputs": [],
   "source": [
    "from itertools import *\n",
    "def get_power_of3(x):\n",
    "    '''\n",
    "    Given a set of weights {1,3,9,27}, write a function to construct any number between 1 and 40. \n",
    "    In other words, using the set above and the addition and subtraction operations, \n",
    "    construct any integer between 1 and 40 without re-using elements. \n",
    "    :x :int\n",
    "    '''\n",
    "    assert x>0 and x<=40\n",
    "    assert isinstance(x,int)\n",
    "    \n",
    "    weight1=[1,0,-1]\n",
    "    weight3=[3,0,-3]\n",
    "    weight9=[9,0,-9]\n",
    "    weight27=[27,0]\n",
    "    weightList=[]\n",
    "    numberList={}\n",
    "    for i in product(weight1, weight3, weight9, weight27):\n",
    "        combination=0\n",
    "        for j in i:\n",
    "            combination=combination+j\n",
    "        if (combination>0 and combination<41):\n",
    "            numberList[combination]=i\n",
    "        else:\n",
    "            continue\n",
    "    elementList=numberList[x]\n",
    "    for i in elementList:\n",
    "        if(i==0):\n",
    "            weightList.append(0)\n",
    "        elif(i>0):\n",
    "            weightList.append(1)\n",
    "        elif(i<0):\n",
    "            weightList.append(-1)\n",
    "    return weightList"
   ]
  },
  {
   "cell_type": "code",
   "execution_count": 4,
   "metadata": {},
   "outputs": [
    {
     "data": {
      "text/plain": [
       "[-1, 0, 1, 0]"
      ]
     },
     "execution_count": 4,
     "metadata": {},
     "output_type": "execute_result"
    }
   ],
   "source": [
    "get_power_of3(8)"
   ]
  },
  {
   "cell_type": "code",
   "execution_count": null,
   "metadata": {
    "deletable": false,
    "editable": false,
    "nbgrader": {
     "checksum": "e94050b00ab7f2f055172868447c882b",
     "grade": true,
     "grade_id": "cell-916cca59838a0ca1",
     "locked": true,
     "points": 20,
     "schema_version": 1,
     "solution": false
    }
   },
   "outputs": [],
   "source": []
  },
  {
   "cell_type": "code",
   "execution_count": null,
   "metadata": {
    "deletable": false,
    "editable": false,
    "nbgrader": {
     "checksum": "6588558d50b890fcb32d0c70080fa81c",
     "grade": true,
     "grade_id": "cell-ef25643f044b9cba",
     "locked": true,
     "points": 10,
     "schema_version": 1,
     "solution": false
    }
   },
   "outputs": [],
   "source": []
  }
 ],
 "metadata": {
  "kernelspec": {
   "display_name": "Python 3",
   "language": "python",
   "name": "python3"
  },
  "language_info": {
   "codemirror_mode": {
    "name": "ipython",
    "version": 3
   },
   "file_extension": ".py",
   "mimetype": "text/x-python",
   "name": "python",
   "nbconvert_exporter": "python",
   "pygments_lexer": "ipython3",
   "version": "3.6.7"
  }
 },
 "nbformat": 4,
 "nbformat_minor": 2
}
